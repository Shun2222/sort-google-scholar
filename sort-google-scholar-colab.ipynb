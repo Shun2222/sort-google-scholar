{
 "cells": [
  {
   "cell_type": "markdown",
   "metadata": {
    "colab_type": "text",
    "id": "view-in-github"
   },
   "source": [
    "<a href=\"https://colab.research.google.com/github/WittmannF/sort-google-scholar/blob/master/Test_sortgs_py_on_Colab.ipynb\" target=\"_parent\"><img src=\"https://colab.research.google.com/assets/colab-badge.svg\" alt=\"Open In Colab\"/></a>"
   ]
  },
  {
   "cell_type": "markdown",
   "metadata": {
    "id": "M36VFanosbkb"
   },
   "source": [
    "## Try `sortgs.py` on Google Colab\n",
    "This is a jupyter envirnment where you can try the code of the repository without installing anything. The only limitation is the robot checking problem which would require selenium and manual solution of the captchas, but for trying a few keywords, it should work! \n",
    "\n",
    "> **INSTRUCTIONS:** If this is the first time you are using a jupyter environment, you simply have to run the code blocks using the keyword `SHIFT` + `ENTER`. Make sure to update the keyword parameters when required. \n",
    "\n",
    "First, let's clone the repository:"
   ]
  },
  {
   "cell_type": "code",
   "execution_count": 1,
   "metadata": {
    "id": "oPot8aWcsfei"
   },
   "outputs": [
    {
     "name": "stderr",
     "output_type": "stream",
     "text": [
      "Cloning into 'sort-google-scholar'...\n"
     ]
    }
   ],
   "source": [
    "!git clone https://github.com/WittmannF/sort-google-scholar.git"
   ]
  },
  {
   "cell_type": "markdown",
   "metadata": {
    "id": "pM5XMRmVspR7"
   },
   "source": [
    "Now, let's open the folder from the cloned repository:"
   ]
  },
  {
   "cell_type": "code",
   "execution_count": 2,
   "metadata": {
    "colab": {
     "base_uri": "https://localhost:8080/",
     "height": 34
    },
    "id": "LQ0mCxVNrlCB",
    "outputId": "4501af7d-39d8-497d-af7b-2632f2fc856b"
   },
   "outputs": [
    {
     "name": "stdout",
     "output_type": "stream",
     "text": [
      "C:\\Users\\SysUser\\sort-google-scholar\\sort-google-scholar\n"
     ]
    }
   ],
   "source": [
    "cd sort-google-scholar/"
   ]
  },
  {
   "cell_type": "markdown",
   "metadata": {
    "id": "KALGyCEJsvTL"
   },
   "source": [
    "Next, let's run the code. Make sure to change \"deep learning\" to the keyword that you would like to have it ranked."
   ]
  },
  {
   "cell_type": "code",
   "execution_count": 3,
   "metadata": {
    "colab": {
     "base_uri": "https://localhost:8080/",
     "height": 504
    },
    "id": "dohZcNUmrost",
    "outputId": "6c61226a-8ab8-4609-8fac-5127c4e48d9f"
   },
   "outputs": [
    {
     "name": "stdout",
     "output_type": "stream",
     "text": [
      "Loading next 10 results\n",
      "Loading next 20 results\n",
      "Loading next 30 results\n",
      "Loading next 40 results\n",
      "Loading next 50 results\n",
      "Loading next 60 results\n",
      "Loading next 70 results\n",
      "Loading next 80 results\n",
      "Loading next 90 results\n",
      "Loading next 100 results\n",
      "                                     Author  ... cit/year\n",
      "Rank                                         ...         \n",
      "7                             Abbeel, AY Ng  ...      168\n",
      "8      Ziebart, AL Maas, JA Bagnell, AK Dey  ...      162\n",
      "1                             Ng, S Russell  ...      129\n",
      "2                            Arora, P Doshi  ...      102\n",
      "10                      Fu, K Luo, S Levine  ...       87\n",
      "...                                     ...  ...      ...\n",
      "34                         Author not found  ...        0\n",
      "23                         Author not found  ...        0\n",
      "12                         Author not found  ...        0\n",
      "5                          Author not found  ...        0\n",
      "111                        Author not found  ...        0\n",
      "\n",
      "[111 rows x 6 columns]\n"
     ]
    },
    {
     "name": "stderr",
     "output_type": "stream",
     "text": [
      "sortgs.py:253: UserWarning: Year not found for Could not catch title, appending 0\n",
      "  warnings.warn(\"Year not found for {}, appending 0\".format(title[-1]))\n"
     ]
    }
   ],
   "source": [
    "# Change 'deep learning' with the keyword that you would like to check\n",
    "!python sortgs.py --kw \"inverse reinforcement learning\" --sortby \"cit/year\""
   ]
  },
  {
   "cell_type": "markdown",
   "metadata": {
    "id": "s_nuxpy_s_9c"
   },
   "source": [
    "> _**NOTE:** It is normal to get some warnings, for example year not found or author not found. However, if you get the robot checking warning, then it might not work anymore in the IP that you have on Google Colab. You can try going in 'Runtime' > 'Disconnect and delete runtime' to get a new IP. If the problem persists, then you will have to run locally using selenium and solve the captchas manually. Make sure to avoid running this code too often to avoid the robot checking problem._\n",
    "\n",
    "Next, you will see that a csv file with the name of the keyword was created (which is `deep_learning.csv` in my case). "
   ]
  },
  {
   "cell_type": "code",
   "execution_count": 4,
   "metadata": {
    "colab": {
     "base_uri": "https://localhost:8080/",
     "height": 34
    },
    "id": "94792EoBrrBU",
    "outputId": "c8e256c2-b7df-4c93-94f2-14d71a7f8050"
   },
   "outputs": [
    {
     "name": "stdout",
     "output_type": "stream",
     "text": [
      " ドライブ C のボリューム ラベルは OS です\n",
      " ボリューム シリアル番号は DCA6-0DD5 です\n",
      "\n",
      " C:\\Users\\SysUser\\sort-google-scholar\\sort-google-scholar のディレクトリ\n",
      "\n",
      "2022/07/26  13:43    <DIR>          .\n",
      "2022/07/26  13:43    <DIR>          ..\n",
      "2022/07/26  13:42               209 .gitignore\n",
      "2022/07/26  13:42    <DIR>          examples\n",
      "2022/07/26  13:43            19,360 inverse_reinforcement_learning.csv\n",
      "2022/07/26  13:42             7,121 README.md\n",
      "2022/07/26  13:42                51 requirements.txt\n",
      "2022/07/26  13:42    <DIR>          sort-google-scholar-V1\n",
      "2022/07/26  13:42            10,479 sortgs.py\n",
      "2022/07/26  13:42    <DIR>          test\n",
      "2022/07/26  13:42            15,713 Test_sortgs_py_on_Colab.ipynb\n",
      "               6 個のファイル              52,933 バイト\n",
      "               5 個のディレクトリ  418,737,692,672 バイトの空き領域\n"
     ]
    }
   ],
   "source": [
    "ls"
   ]
  },
  {
   "cell_type": "markdown",
   "metadata": {
    "id": "QQIb9oYou9GM"
   },
   "source": [
    "Let's import this file to visualize some results (make sure to change `deep_learning.csv` to the file name that was created in your case):"
   ]
  },
  {
   "cell_type": "code",
   "execution_count": 5,
   "metadata": {
    "id": "NVoHI4zTr5pB"
   },
   "outputs": [
    {
     "ename": "FileNotFoundError",
     "evalue": "[Errno 2] File b'deep_learning.csv' does not exist: b'deep_learning.csv'",
     "output_type": "error",
     "traceback": [
      "\u001b[1;31m---------------------------------------------------------------------------\u001b[0m",
      "\u001b[1;31mFileNotFoundError\u001b[0m                         Traceback (most recent call last)",
      "\u001b[1;32m<ipython-input-5-85d3495ef91c>\u001b[0m in \u001b[0;36m<module>\u001b[1;34m\u001b[0m\n\u001b[0;32m      1\u001b[0m \u001b[1;32mimport\u001b[0m \u001b[0mpandas\u001b[0m \u001b[1;32mas\u001b[0m \u001b[0mpd\u001b[0m\u001b[1;33m\u001b[0m\u001b[1;33m\u001b[0m\u001b[0m\n\u001b[1;32m----> 2\u001b[1;33m \u001b[0mdf\u001b[0m \u001b[1;33m=\u001b[0m \u001b[0mpd\u001b[0m\u001b[1;33m.\u001b[0m\u001b[0mread_csv\u001b[0m\u001b[1;33m(\u001b[0m\u001b[1;34m'deep_learning.csv'\u001b[0m\u001b[1;33m)\u001b[0m \u001b[1;31m# OBS: Update the file name\u001b[0m\u001b[1;33m\u001b[0m\u001b[1;33m\u001b[0m\u001b[0m\n\u001b[0m",
      "\u001b[1;32m~\\Anaconda3\\lib\\site-packages\\pandas\\io\\parsers.py\u001b[0m in \u001b[0;36mparser_f\u001b[1;34m(filepath_or_buffer, sep, delimiter, header, names, index_col, usecols, squeeze, prefix, mangle_dupe_cols, dtype, engine, converters, true_values, false_values, skipinitialspace, skiprows, skipfooter, nrows, na_values, keep_default_na, na_filter, verbose, skip_blank_lines, parse_dates, infer_datetime_format, keep_date_col, date_parser, dayfirst, cache_dates, iterator, chunksize, compression, thousands, decimal, lineterminator, quotechar, quoting, doublequote, escapechar, comment, encoding, dialect, error_bad_lines, warn_bad_lines, delim_whitespace, low_memory, memory_map, float_precision)\u001b[0m\n\u001b[0;32m    683\u001b[0m         )\n\u001b[0;32m    684\u001b[0m \u001b[1;33m\u001b[0m\u001b[0m\n\u001b[1;32m--> 685\u001b[1;33m         \u001b[1;32mreturn\u001b[0m \u001b[0m_read\u001b[0m\u001b[1;33m(\u001b[0m\u001b[0mfilepath_or_buffer\u001b[0m\u001b[1;33m,\u001b[0m \u001b[0mkwds\u001b[0m\u001b[1;33m)\u001b[0m\u001b[1;33m\u001b[0m\u001b[1;33m\u001b[0m\u001b[0m\n\u001b[0m\u001b[0;32m    686\u001b[0m \u001b[1;33m\u001b[0m\u001b[0m\n\u001b[0;32m    687\u001b[0m     \u001b[0mparser_f\u001b[0m\u001b[1;33m.\u001b[0m\u001b[0m__name__\u001b[0m \u001b[1;33m=\u001b[0m \u001b[0mname\u001b[0m\u001b[1;33m\u001b[0m\u001b[1;33m\u001b[0m\u001b[0m\n",
      "\u001b[1;32m~\\Anaconda3\\lib\\site-packages\\pandas\\io\\parsers.py\u001b[0m in \u001b[0;36m_read\u001b[1;34m(filepath_or_buffer, kwds)\u001b[0m\n\u001b[0;32m    455\u001b[0m \u001b[1;33m\u001b[0m\u001b[0m\n\u001b[0;32m    456\u001b[0m     \u001b[1;31m# Create the parser.\u001b[0m\u001b[1;33m\u001b[0m\u001b[1;33m\u001b[0m\u001b[1;33m\u001b[0m\u001b[0m\n\u001b[1;32m--> 457\u001b[1;33m     \u001b[0mparser\u001b[0m \u001b[1;33m=\u001b[0m \u001b[0mTextFileReader\u001b[0m\u001b[1;33m(\u001b[0m\u001b[0mfp_or_buf\u001b[0m\u001b[1;33m,\u001b[0m \u001b[1;33m**\u001b[0m\u001b[0mkwds\u001b[0m\u001b[1;33m)\u001b[0m\u001b[1;33m\u001b[0m\u001b[1;33m\u001b[0m\u001b[0m\n\u001b[0m\u001b[0;32m    458\u001b[0m \u001b[1;33m\u001b[0m\u001b[0m\n\u001b[0;32m    459\u001b[0m     \u001b[1;32mif\u001b[0m \u001b[0mchunksize\u001b[0m \u001b[1;32mor\u001b[0m \u001b[0miterator\u001b[0m\u001b[1;33m:\u001b[0m\u001b[1;33m\u001b[0m\u001b[1;33m\u001b[0m\u001b[0m\n",
      "\u001b[1;32m~\\Anaconda3\\lib\\site-packages\\pandas\\io\\parsers.py\u001b[0m in \u001b[0;36m__init__\u001b[1;34m(self, f, engine, **kwds)\u001b[0m\n\u001b[0;32m    893\u001b[0m             \u001b[0mself\u001b[0m\u001b[1;33m.\u001b[0m\u001b[0moptions\u001b[0m\u001b[1;33m[\u001b[0m\u001b[1;34m\"has_index_names\"\u001b[0m\u001b[1;33m]\u001b[0m \u001b[1;33m=\u001b[0m \u001b[0mkwds\u001b[0m\u001b[1;33m[\u001b[0m\u001b[1;34m\"has_index_names\"\u001b[0m\u001b[1;33m]\u001b[0m\u001b[1;33m\u001b[0m\u001b[1;33m\u001b[0m\u001b[0m\n\u001b[0;32m    894\u001b[0m \u001b[1;33m\u001b[0m\u001b[0m\n\u001b[1;32m--> 895\u001b[1;33m         \u001b[0mself\u001b[0m\u001b[1;33m.\u001b[0m\u001b[0m_make_engine\u001b[0m\u001b[1;33m(\u001b[0m\u001b[0mself\u001b[0m\u001b[1;33m.\u001b[0m\u001b[0mengine\u001b[0m\u001b[1;33m)\u001b[0m\u001b[1;33m\u001b[0m\u001b[1;33m\u001b[0m\u001b[0m\n\u001b[0m\u001b[0;32m    896\u001b[0m \u001b[1;33m\u001b[0m\u001b[0m\n\u001b[0;32m    897\u001b[0m     \u001b[1;32mdef\u001b[0m \u001b[0mclose\u001b[0m\u001b[1;33m(\u001b[0m\u001b[0mself\u001b[0m\u001b[1;33m)\u001b[0m\u001b[1;33m:\u001b[0m\u001b[1;33m\u001b[0m\u001b[1;33m\u001b[0m\u001b[0m\n",
      "\u001b[1;32m~\\Anaconda3\\lib\\site-packages\\pandas\\io\\parsers.py\u001b[0m in \u001b[0;36m_make_engine\u001b[1;34m(self, engine)\u001b[0m\n\u001b[0;32m   1133\u001b[0m     \u001b[1;32mdef\u001b[0m \u001b[0m_make_engine\u001b[0m\u001b[1;33m(\u001b[0m\u001b[0mself\u001b[0m\u001b[1;33m,\u001b[0m \u001b[0mengine\u001b[0m\u001b[1;33m=\u001b[0m\u001b[1;34m\"c\"\u001b[0m\u001b[1;33m)\u001b[0m\u001b[1;33m:\u001b[0m\u001b[1;33m\u001b[0m\u001b[1;33m\u001b[0m\u001b[0m\n\u001b[0;32m   1134\u001b[0m         \u001b[1;32mif\u001b[0m \u001b[0mengine\u001b[0m \u001b[1;33m==\u001b[0m \u001b[1;34m\"c\"\u001b[0m\u001b[1;33m:\u001b[0m\u001b[1;33m\u001b[0m\u001b[1;33m\u001b[0m\u001b[0m\n\u001b[1;32m-> 1135\u001b[1;33m             \u001b[0mself\u001b[0m\u001b[1;33m.\u001b[0m\u001b[0m_engine\u001b[0m \u001b[1;33m=\u001b[0m \u001b[0mCParserWrapper\u001b[0m\u001b[1;33m(\u001b[0m\u001b[0mself\u001b[0m\u001b[1;33m.\u001b[0m\u001b[0mf\u001b[0m\u001b[1;33m,\u001b[0m \u001b[1;33m**\u001b[0m\u001b[0mself\u001b[0m\u001b[1;33m.\u001b[0m\u001b[0moptions\u001b[0m\u001b[1;33m)\u001b[0m\u001b[1;33m\u001b[0m\u001b[1;33m\u001b[0m\u001b[0m\n\u001b[0m\u001b[0;32m   1136\u001b[0m         \u001b[1;32melse\u001b[0m\u001b[1;33m:\u001b[0m\u001b[1;33m\u001b[0m\u001b[1;33m\u001b[0m\u001b[0m\n\u001b[0;32m   1137\u001b[0m             \u001b[1;32mif\u001b[0m \u001b[0mengine\u001b[0m \u001b[1;33m==\u001b[0m \u001b[1;34m\"python\"\u001b[0m\u001b[1;33m:\u001b[0m\u001b[1;33m\u001b[0m\u001b[1;33m\u001b[0m\u001b[0m\n",
      "\u001b[1;32m~\\Anaconda3\\lib\\site-packages\\pandas\\io\\parsers.py\u001b[0m in \u001b[0;36m__init__\u001b[1;34m(self, src, **kwds)\u001b[0m\n\u001b[0;32m   1915\u001b[0m         \u001b[0mkwds\u001b[0m\u001b[1;33m[\u001b[0m\u001b[1;34m\"usecols\"\u001b[0m\u001b[1;33m]\u001b[0m \u001b[1;33m=\u001b[0m \u001b[0mself\u001b[0m\u001b[1;33m.\u001b[0m\u001b[0musecols\u001b[0m\u001b[1;33m\u001b[0m\u001b[1;33m\u001b[0m\u001b[0m\n\u001b[0;32m   1916\u001b[0m \u001b[1;33m\u001b[0m\u001b[0m\n\u001b[1;32m-> 1917\u001b[1;33m         \u001b[0mself\u001b[0m\u001b[1;33m.\u001b[0m\u001b[0m_reader\u001b[0m \u001b[1;33m=\u001b[0m \u001b[0mparsers\u001b[0m\u001b[1;33m.\u001b[0m\u001b[0mTextReader\u001b[0m\u001b[1;33m(\u001b[0m\u001b[0msrc\u001b[0m\u001b[1;33m,\u001b[0m \u001b[1;33m**\u001b[0m\u001b[0mkwds\u001b[0m\u001b[1;33m)\u001b[0m\u001b[1;33m\u001b[0m\u001b[1;33m\u001b[0m\u001b[0m\n\u001b[0m\u001b[0;32m   1918\u001b[0m         \u001b[0mself\u001b[0m\u001b[1;33m.\u001b[0m\u001b[0munnamed_cols\u001b[0m \u001b[1;33m=\u001b[0m \u001b[0mself\u001b[0m\u001b[1;33m.\u001b[0m\u001b[0m_reader\u001b[0m\u001b[1;33m.\u001b[0m\u001b[0munnamed_cols\u001b[0m\u001b[1;33m\u001b[0m\u001b[1;33m\u001b[0m\u001b[0m\n\u001b[0;32m   1919\u001b[0m \u001b[1;33m\u001b[0m\u001b[0m\n",
      "\u001b[1;32mpandas\\_libs\\parsers.pyx\u001b[0m in \u001b[0;36mpandas._libs.parsers.TextReader.__cinit__\u001b[1;34m()\u001b[0m\n",
      "\u001b[1;32mpandas\\_libs\\parsers.pyx\u001b[0m in \u001b[0;36mpandas._libs.parsers.TextReader._setup_parser_source\u001b[1;34m()\u001b[0m\n",
      "\u001b[1;31mFileNotFoundError\u001b[0m: [Errno 2] File b'deep_learning.csv' does not exist: b'deep_learning.csv'"
     ]
    }
   ],
   "source": [
    "import pandas as pd\n",
    "df = pd.read_csv('deep_learning.csv') # OBS: Update the file name"
   ]
  },
  {
   "cell_type": "code",
   "execution_count": null,
   "metadata": {
    "colab": {
     "base_uri": "https://localhost:8080/",
     "height": 578
    },
    "id": "S1NzeUq0sOu-",
    "outputId": "29bdad8a-17e1-415d-a2e3-827cfe71889a"
   },
   "outputs": [
    {
     "data": {
      "text/html": [
       "<div>\n",
       "<style scoped>\n",
       "    .dataframe tbody tr th:only-of-type {\n",
       "        vertical-align: middle;\n",
       "    }\n",
       "\n",
       "    .dataframe tbody tr th {\n",
       "        vertical-align: top;\n",
       "    }\n",
       "\n",
       "    .dataframe thead th {\n",
       "        text-align: right;\n",
       "    }\n",
       "</style>\n",
       "<table border=\"1\" class=\"dataframe\">\n",
       "  <thead>\n",
       "    <tr style=\"text-align: right;\">\n",
       "      <th></th>\n",
       "      <th>Rank</th>\n",
       "      <th>Author</th>\n",
       "      <th>Title</th>\n",
       "      <th>Citations</th>\n",
       "      <th>Year</th>\n",
       "      <th>Source</th>\n",
       "      <th>cit/year</th>\n",
       "    </tr>\n",
       "  </thead>\n",
       "  <tbody>\n",
       "    <tr>\n",
       "      <th>0</th>\n",
       "      <td>1</td>\n",
       "      <td>LeCun, Y Bengio, G Hinton</td>\n",
       "      <td>Deep learning</td>\n",
       "      <td>19232</td>\n",
       "      <td>2015</td>\n",
       "      <td>https://www.nature.com/articles/nature14539</td>\n",
       "      <td>3846</td>\n",
       "    </tr>\n",
       "    <tr>\n",
       "      <th>1</th>\n",
       "      <td>3</td>\n",
       "      <td>Goodfellow, Y Bengio, A Courville</td>\n",
       "      <td>Deep learning</td>\n",
       "      <td>10466</td>\n",
       "      <td>2016</td>\n",
       "      <td>https://books.google.com/books?hl=en&amp;lr=&amp;id=om...</td>\n",
       "      <td>2616</td>\n",
       "    </tr>\n",
       "    <tr>\n",
       "      <th>2</th>\n",
       "      <td>9</td>\n",
       "      <td>Schmidhuber</td>\n",
       "      <td>Deep learning in neural networks: An overview</td>\n",
       "      <td>6799</td>\n",
       "      <td>2015</td>\n",
       "      <td>https://www.sciencedirect.com/science/article/...</td>\n",
       "      <td>1360</td>\n",
       "    </tr>\n",
       "    <tr>\n",
       "      <th>3</th>\n",
       "      <td>4</td>\n",
       "      <td>Mnih, K Kavukcuoglu, D Silver, A Graves…</td>\n",
       "      <td>Playing atari with deep reinforcement learning</td>\n",
       "      <td>2949</td>\n",
       "      <td>2013</td>\n",
       "      <td>https://arxiv.org/abs/1312.5602</td>\n",
       "      <td>421</td>\n",
       "    </tr>\n",
       "    <tr>\n",
       "      <th>4</th>\n",
       "      <td>41</td>\n",
       "      <td>Litjens, T Kooi, BE Bejnordi, AAA Setio, F Cio...</td>\n",
       "      <td>A survey on deep learning in medical image ana...</td>\n",
       "      <td>2067</td>\n",
       "      <td>2017</td>\n",
       "      <td>https://www.sciencedirect.com/science/article/...</td>\n",
       "      <td>689</td>\n",
       "    </tr>\n",
       "    <tr>\n",
       "      <th>5</th>\n",
       "      <td>24</td>\n",
       "      <td>Sutskever, J Martens, G Dahl, G Hinton</td>\n",
       "      <td>On the importance of initialization and moment...</td>\n",
       "      <td>2031</td>\n",
       "      <td>2013</td>\n",
       "      <td>http://www.jmlr.org/proceedings/papers/v28/sut...</td>\n",
       "      <td>290</td>\n",
       "    </tr>\n",
       "    <tr>\n",
       "      <th>6</th>\n",
       "      <td>6</td>\n",
       "      <td>Deng, D Yu</td>\n",
       "      <td>Deep learning: methods and applications</td>\n",
       "      <td>1884</td>\n",
       "      <td>2014</td>\n",
       "      <td>http://www.nowpublishers.com/article/Details/S...</td>\n",
       "      <td>314</td>\n",
       "    </tr>\n",
       "    <tr>\n",
       "      <th>7</th>\n",
       "      <td>27</td>\n",
       "      <td>Erhan, Y Bengio, A Courville, PA Manzagol…</td>\n",
       "      <td>Why does unsupervised pre-training help deep l...</td>\n",
       "      <td>1857</td>\n",
       "      <td>2010</td>\n",
       "      <td>http://www.jmlr.org/papers/v11/erhan10a.html</td>\n",
       "      <td>186</td>\n",
       "    </tr>\n",
       "    <tr>\n",
       "      <th>8</th>\n",
       "      <td>2</td>\n",
       "      <td>Ngiam, A Khosla, M Kim, J Nam, H Lee…</td>\n",
       "      <td>Multimodal deep learning</td>\n",
       "      <td>1785</td>\n",
       "      <td>2011</td>\n",
       "      <td>http://ai.stanford.edu/~ang/papers/icml11-Mult...</td>\n",
       "      <td>198</td>\n",
       "    </tr>\n",
       "    <tr>\n",
       "      <th>9</th>\n",
       "      <td>20</td>\n",
       "      <td>Dong, CC Loy, K He, X Tang</td>\n",
       "      <td>Learning a deep convolutional network for imag...</td>\n",
       "      <td>1734</td>\n",
       "      <td>2014</td>\n",
       "      <td>https://link.springer.com/chapter/10.1007/978-...</td>\n",
       "      <td>289</td>\n",
       "    </tr>\n",
       "  </tbody>\n",
       "</table>\n",
       "</div>"
      ],
      "text/plain": [
       "   Rank  ... cit/year\n",
       "0     1  ...     3846\n",
       "1     3  ...     2616\n",
       "2     9  ...     1360\n",
       "3     4  ...      421\n",
       "4    41  ...      689\n",
       "5    24  ...      290\n",
       "6     6  ...      314\n",
       "7    27  ...      186\n",
       "8     2  ...      198\n",
       "9    20  ...      289\n",
       "\n",
       "[10 rows x 7 columns]"
      ]
     },
     "execution_count": 9,
     "metadata": {
      "tags": []
     },
     "output_type": "execute_result"
    }
   ],
   "source": [
    "df.head(10)"
   ]
  },
  {
   "cell_type": "markdown",
   "metadata": {
    "id": "t7ZCDWaksZxj"
   },
   "source": [
    "Above we have the top 10 papers of deep learning ranked by citations per year. It is incredible that some papers are very far away from the original rank. For example, the fourth most cited paper per year is originally the number 41 in the original rank of Google! "
   ]
  },
  {
   "cell_type": "markdown",
   "metadata": {
    "id": "-xx5GEHuybPd"
   },
   "source": [
    "Finally, let's download the CSV results (make sure to update the CSV name here as well):"
   ]
  },
  {
   "cell_type": "code",
   "execution_count": null,
   "metadata": {
    "id": "Svc1GCM2yaLP"
   },
   "outputs": [],
   "source": [
    "from google.colab import files\n",
    "files.download('deep_learning.csv') # Update the file name here"
   ]
  },
  {
   "cell_type": "markdown",
   "metadata": {
    "id": "09OFwDdM2K5h"
   },
   "source": [
    "OBS: If you get an error running the previous line, you can download the file manually by clicking in the left pane icon (below the `+ Code` button), then click in files, expand the `sort-google-scholar` folder, right click and download in the csv file:\n",
    "\n",
    "![](https://i.stack.imgur.com/KKJXFm.png)"
   ]
  },
  {
   "cell_type": "code",
   "execution_count": null,
   "metadata": {
    "id": "pM_Bb4MH14eI"
   },
   "outputs": [],
   "source": []
  }
 ],
 "metadata": {
  "colab": {
   "include_colab_link": true,
   "name": "Test sortgs.py on Colab.ipynb",
   "provenance": []
  },
  "kernelspec": {
   "display_name": "Python 3",
   "language": "python",
   "name": "python3"
  },
  "language_info": {
   "codemirror_mode": {
    "name": "ipython",
    "version": 3
   },
   "file_extension": ".py",
   "mimetype": "text/x-python",
   "name": "python",
   "nbconvert_exporter": "python",
   "pygments_lexer": "ipython3",
   "version": "3.7.4"
  }
 },
 "nbformat": 4,
 "nbformat_minor": 1
}
