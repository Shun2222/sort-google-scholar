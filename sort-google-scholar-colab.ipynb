{
 "cells": [
  {
   "cell_type": "markdown",
   "metadata": {
    "colab_type": "text",
    "id": "view-in-github"
   },
   "source": [
    "<a href=\"https://colab.research.google.com/github/WittmannF/sort-google-scholar/blob/master/Test_sortgs_py_on_Colab.ipynb\" target=\"_parent\"><img src=\"https://colab.research.google.com/assets/colab-badge.svg\" alt=\"Open In Colab\"/></a>"
   ]
  },
  {
   "cell_type": "markdown",
   "metadata": {
    "id": "M36VFanosbkb"
   },
   "source": [
    "## Try `sortgs.py` on Google Colab\n",
    "This is a jupyter envirnment where you can try the code of the repository without installing anything. The only limitation is the robot checking problem which would require selenium and manual solution of the captchas, but for trying a few keywords, it should work! \n",
    "\n",
    "> **INSTRUCTIONS:** If this is the first time you are using a jupyter environment, you simply have to run the code blocks using the keyword `SHIFT` + `ENTER`. Make sure to update the keyword parameters when required. \n",
    "\n",
    "First, let's clone the repository:"
   ]
  },
  {
   "cell_type": "code",
   "execution_count": 9,
   "metadata": {
    "colab": {
     "base_uri": "https://localhost:8080/",
     "height": 504
    },
    "id": "dohZcNUmrost",
    "outputId": "6c61226a-8ab8-4609-8fac-5127c4e48d9f"
   },
   "outputs": [
    {
     "name": "stdout",
     "output_type": "stream",
     "text": [
      "Loading next 10 results\n",
      "Loading next 20 results\n",
      "Loading next 30 results\n",
      "Loading next 40 results\n",
      "Loading next 50 results\n",
      "Loading next 60 results\n",
      "Loading next 70 results\n",
      "Loading next 80 results\n",
      "Loading next 90 results\n",
      "Loading next 100 results\n",
      "                                                 Author  ... cit/year\n",
      "Rank                                                     ...         \n",
      "3                                      Sutton, AG Barto  ...    10432\n",
      "32    Mnih, K Kavukcuoglu, D Silver, AA Rusu, J Veness…  ...     2508\n",
      "19      Lillicrap, JJ Hunt, A Pritzel, N Heess, T Erez…  ...     1170\n",
      "21                   Mnih, AP Badia, M Mirza, A Graves…  ...     1022\n",
      "15             Mnih, K Kavukcuoglu, D Silver, A Graves…  ...      943\n",
      "...                                                 ...  ...      ...\n",
      "23                                     Author not found  ...        0\n",
      "12                                     Author not found  ...        0\n",
      "7                                      Barto, RS Sutton  ...        0\n",
      "5                                      Author not found  ...        0\n",
      "111                                    Author not found  ...        0\n",
      "\n",
      "[111 rows x 6 columns]\n"
     ]
    },
    {
     "name": "stderr",
     "output_type": "stream",
     "text": [
      "sortgs.py:253: UserWarning: Year not found for Could not catch title, appending 0\n",
      "  warnings.warn(\"Year not found for {}, appending 0\".format(title[-1]))\n"
     ]
    }
   ],
   "source": [
    "# Change 'deep learning' with the keyword that you would like to check\n",
    "!python sortgs.py --kw \"reinforcement learning\" --sortby \"cit/year\""
   ]
  },
  {
   "cell_type": "code",
   "execution_count": 10,
   "metadata": {
    "id": "NVoHI4zTr5pB"
   },
   "outputs": [],
   "source": [
    "import pandas as pd\n",
    "df = pd.read_csv(\"./results/inverse_reinforcement_learning.csv\") # OBS: Update the file name\n",
    "df.head(10)"
   ]
  }
 ],
 "metadata": {
  "colab": {
   "include_colab_link": true,
   "name": "Test sortgs.py on Colab.ipynb",
   "provenance": []
  },
  "kernelspec": {
   "display_name": "Python 3",
   "language": "python",
   "name": "python3"
  },
  "language_info": {
   "codemirror_mode": {
    "name": "ipython",
    "version": 3
   },
   "file_extension": ".py",
   "mimetype": "text/x-python",
   "name": "python",
   "nbconvert_exporter": "python",
   "pygments_lexer": "ipython3",
   "version": "3.7.4"
  }
 },
 "nbformat": 4,
 "nbformat_minor": 1
}
